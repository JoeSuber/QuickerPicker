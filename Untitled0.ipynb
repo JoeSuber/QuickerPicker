{
 "metadata": {
  "name": "",
  "signature": "sha256:025d3420bd13eca64cac0a42d3f2485fe2bc101944bf103e7aa8f2871d31485d"
 },
 "nbformat": 3,
 "nbformat_minor": 0,
 "worksheets": [
  {
   "cells": [
    {
     "cell_type": "code",
     "collapsed": false,
     "input": [
      "import numpy as np\n",
      "import pandas as pd\n",
      "np.sum"
     ],
     "language": "python",
     "metadata": {},
     "outputs": []
    }
   ],
   "metadata": {}
  }
 ]
}