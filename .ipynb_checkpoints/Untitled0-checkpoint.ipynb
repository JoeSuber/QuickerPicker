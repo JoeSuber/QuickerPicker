{
 "metadata": {
  "name": "",
  "signature": "sha256:3df4b923a3c451a34a08a0fd41ce40a3e93b5cbe439911c874e3d058da612544"
 },
 "nbformat": 3,
 "nbformat_minor": 0,
 "worksheets": []
}